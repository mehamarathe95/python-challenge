{
 "cells": [
  {
   "cell_type": "code",
   "execution_count": 1,
   "metadata": {},
   "outputs": [],
   "source": [
    "#import os module\n",
    "import os\n",
    "\n",
    "#import the budget data file\n",
    "import csv"
   ]
  },
  {
   "cell_type": "code",
   "execution_count": 18,
   "metadata": {
    "scrolled": true
   },
   "outputs": [
    {
     "name": "stdout",
     "output_type": "stream",
     "text": [
      "Financial Analysis\n",
      "----------------------------\n",
      "Total Months: 86\n",
      "Total: $38382578\n",
      "Average Change: $-2315.12\n",
      "Greatest Increase In Profits: Feb-2012 ($1926159)\n",
      "Greatest Decrease in Profits: Sep-2013 ($-2196167)\n"
     ]
    },
    {
     "data": {
      "text/plain": [
       "209"
      ]
     },
     "execution_count": 18,
     "metadata": {},
     "output_type": "execute_result"
    }
   ],
   "source": [
    "csvpath = os.path.join('Resources', 'budget_data.csv')\n",
    "\n",
    "#variables for parameters\n",
    "total_months = 0\n",
    "total_revenue = 0\n",
    "previous_month_revenue = 0\n",
    "revenue_change = 0\n",
    "revenue_change_list = []\n",
    "month_change_list = []\n",
    "greatest_increase = [\"\", 0]\n",
    "greatest_decrease = [\"\", 999999999999999999]\n",
    "\n",
    "#open the CSV\n",
    "with open(csvpath) as csvfile:\n",
    "    csvreader = csv.reader(csvfile, delimiter=',')\n",
    "#     print(csvreader)\n",
    "    \n",
    "    csv_header = next(csvreader)\n",
    "#     print(f\"CSV Header: {csv_header}\"\n",
    "    \n",
    "    for row in csvreader:\n",
    "     \n",
    "        #tracking the totals\n",
    "        total_months = total_months + 1\n",
    "        total_revenue = total_revenue + int(row[1])\n",
    "        if total_months == 1:\n",
    "            previous_revenue = int(row[1])\n",
    "        if total_months > 1:\n",
    "            monthly_revenue = int(row[1]) - previous_revenue\n",
    "            previous_revenue = int(row[1])\n",
    "            revenue_change_list.append(monthly_revenue)\n",
    "            month_change_list.append(row[0])\n",
    "            \n",
    "#     print(len(revenue_change_list))\n",
    "#     print(len(month_change_list))\n",
    "            \n",
    "    #calculating greatest increase\n",
    "    greatest_increase = max(revenue_change_list)\n",
    "    greatest_index = revenue_change_list.index(greatest_increase)\n",
    "    greatest_month_increase = month_change_list[greatest_index]\n",
    "    \n",
    "    #calculaing greatest decrease\n",
    "    greatest_decrease = min(revenue_change_list)\n",
    "    lowest_index = revenue_change_list.index(greatest_decrease)\n",
    "    lowest_month_decrease = month_change_list[lowest_index]\n",
    "    \n",
    "    #calculating the average change in profit/losses between the months \n",
    "    average_change = sum(revenue_change_list)/len(revenue_change_list)\n",
    "    \n",
    "    \n",
    "#showing the results \n",
    "print(\"Financial Analysis\")\n",
    "print(\"----------------------------\")\n",
    "print(f\"Total Months: {str(total_months)}\")\n",
    "print(f\"Total: ${str(total_revenue)}\")\n",
    "print(f\"Average Change: ${str(round(average_change,2))}\")\n",
    "print(f\"Greatest Increase In Profits: {greatest_month_increase} (${str(greatest_increase)})\")\n",
    "print(f\"Greatest Decrease in Profits: {lowest_month_decrease} (${str(greatest_decrease)})\")\n",
    "\n",
    "#Exporting above findings to a text file\n",
    "output = open(\"output.txt\", \"w\")\n",
    "\n",
    "line1 = \"Financial Analysis\"\n",
    "line2 = \"----------------------------\"\n",
    "line3 = str(f\"Total Months: {str(total_months)}\")\n",
    "line4 = str(f\"Total: ${str(total_revenue)}\")\n",
    "line5 = str(f\"Average Change: ${str(round(average_change,2))}\")\n",
    "line6 = str(f\"Greatest Increase In Profits: {greatest_month_increase} (${str(greatest_increase)})\")\n",
    "line7 = str(f\"Greatest Decrease in Profits: {lowest_month_decrease} (${str(greatest_decrease)})\")\n",
    "output.write('{}\\n{}\\n{}\\n{}\\n{}\\n{}\\n{}\\n'.format(line1,line2,line3,line4,line5,line6,line7))"
   ]
  },
  {
   "cell_type": "code",
   "execution_count": null,
   "metadata": {},
   "outputs": [],
   "source": []
  }
 ],
 "metadata": {
  "kernelspec": {
   "display_name": "Python 3",
   "language": "python",
   "name": "python3"
  },
  "language_info": {
   "codemirror_mode": {
    "name": "ipython",
    "version": 3
   },
   "file_extension": ".py",
   "mimetype": "text/x-python",
   "name": "python",
   "nbconvert_exporter": "python",
   "pygments_lexer": "ipython3",
   "version": "3.7.6"
  }
 },
 "nbformat": 4,
 "nbformat_minor": 4
}
