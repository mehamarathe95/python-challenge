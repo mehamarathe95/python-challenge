{
 "cells": [
  {
   "cell_type": "code",
   "execution_count": 19,
   "metadata": {},
   "outputs": [],
   "source": [
    "#import os module\n",
    "import os\n",
    "\n",
    "#import the election data file\n",
    "import csv"
   ]
  },
  {
   "cell_type": "code",
   "execution_count": 20,
   "metadata": {},
   "outputs": [
    {
     "name": "stdout",
     "output_type": "stream",
     "text": [
      "Election Results\n",
      "-------------------------\n",
      "Total Votes: 3521001\n",
      "\n",
      "-------------------------\n",
      "Khan:  63.000% (2218231)\n",
      "Correy:  20.000% (704200)\n",
      "Li:  14.000% (492940)\n",
      "O'Tooley:  3.000% (105630)\n",
      "-------------------------\n",
      "Winner: Khan\n",
      "\n",
      "-------------------------\n"
     ]
    },
    {
     "data": {
      "text/plain": [
       "257"
      ]
     },
     "execution_count": 20,
     "metadata": {},
     "output_type": "execute_result"
    }
   ],
   "source": [
    "#load file\n",
    "csvpath = os.path.join('Resources','election_data.csv')\n",
    "\n",
    "#variables for parameters\n",
    "total_votes = 0\n",
    "khan_votes = 0\n",
    "correy_votes = 0\n",
    "li_votes = 0\n",
    "otooley_votes = 0\n",
    "max_votes = 0\n",
    "cndidates_list = []\n",
    "candidate_vote = {}\n",
    "\n",
    "#open the CSV file and read the data\n",
    "with open(csvpath) as csvfile:\n",
    "    csvreader = csv.reader(csvfile, delimiter=',')\n",
    "#print(csvreader)\n",
    "\n",
    "#reading the header row in the data set provided\n",
    "    csv_header = next(csvreader)\n",
    "#print(f\"CSV Header: {csv_header}\")\n",
    "    \n",
    "    for row in csvreader:\n",
    "        voterid = row[0]\n",
    "        county = row[1]\n",
    "        candidate = row[2]\n",
    "        #tracking the total votes \n",
    "        total_votes = total_votes + 1\n",
    "        \n",
    "        #the below will help count the how many votes each candidate got\n",
    "        if candidate == \"Khan\":\n",
    "            khan_votes = khan_votes + 1\n",
    "        if candidate == \"Correy\":\n",
    "            correy_votes = correy_votes + 1\n",
    "        if candidate == \"Li\":\n",
    "            li_votes = li_votes + 1\n",
    "        if candidate == \"O'Tooley\":\n",
    "            otooley_votes = otooley_votes + 1\n",
    "    \n",
    "        #using a dictionary list to show candidates and their votes\n",
    "        candidate_vote = {\"Khan\": khan_votes, \"Correy\": correy_votes, \"Li\": li_votes, \"O'Tooley\": otooley_votes}\n",
    "        \n",
    "        #calculating the winner of the election using a conditional statement\n",
    "        for candidate, value in candidate_vote.items():\n",
    "            if value > max_votes:\n",
    "                max_votes = value\n",
    "                election_winner = candidate\n",
    "\n",
    "#defining the function that will be used for the below percentage calculations\n",
    "def percent (part, whole):\n",
    "    return 100 * float(part) / float(whole)\n",
    "                \n",
    "print(\"Election Results\")\n",
    "print(\"-------------------------\")\n",
    "print(f'Total Votes: {total_votes}' + '\\n')\n",
    "print(\"-------------------------\")\n",
    "print(f'Khan: {percent(khan_votes, total_votes): .3f}% ({khan_votes})')\n",
    "print(f'Correy: {percent(correy_votes, total_votes): .3f}% ({correy_votes})')\n",
    "print(f'Li: {percent(li_votes, total_votes): .3f}% ({li_votes})')\n",
    "print(f'O\\'Tooley: {percent(otooley_votes, total_votes): .3f}% ({otooley_votes})')\n",
    "print(\"-------------------------\")\n",
    "print(f'Winner: {election_winner}' + '\\n')\n",
    "print(\"-------------------------\")\n",
    "\n",
    "#exporting above findings to a text file\n",
    "output = open('output.txt', \"w\")\n",
    "\n",
    "line1 = \"Election Results\"\n",
    "line2 = \"-------------------------\"\n",
    "line3 = (f'Total Votes: {total_votes}' + '\\n') \n",
    "line4 = \"-------------------------\"\n",
    "line5 = (f'Khan: {percent(khan_votes, total_votes): .3f}% ({khan_votes})') \n",
    "line6 = (f'Correy: {percent(correy_votes, total_votes): .3f}% ({correy_votes})') \n",
    "line7 = (f'Li: {percent(li_votes, total_votes): .3f}% ({li_votes})')\n",
    "line8 = (f'O\\'Tooley: {percent(otooley_votes, total_votes): .3f}% ({otooley_votes})')\n",
    "line9 = \"-------------------------\"\n",
    "line10 = (f'Winner: {election_winner}' + '\\n') \n",
    "line11 = \"-------------------------\"\n",
    "output.write('{}\\n{}\\n{}\\n{}\\n{}\\n{}\\n{}\\n{}\\n{}\\n{}\\n{}\\n'.format(line1,line2,line3,line4,line5,line6,line7,line8,line9,line10,line11))"
   ]
  },
  {
   "cell_type": "code",
   "execution_count": null,
   "metadata": {},
   "outputs": [],
   "source": []
  },
  {
   "cell_type": "code",
   "execution_count": null,
   "metadata": {},
   "outputs": [],
   "source": []
  }
 ],
 "metadata": {
  "kernelspec": {
   "display_name": "Python 3",
   "language": "python",
   "name": "python3"
  },
  "language_info": {
   "codemirror_mode": {
    "name": "ipython",
    "version": 3
   },
   "file_extension": ".py",
   "mimetype": "text/x-python",
   "name": "python",
   "nbconvert_exporter": "python",
   "pygments_lexer": "ipython3",
   "version": "3.7.6"
  }
 },
 "nbformat": 4,
 "nbformat_minor": 4
}
